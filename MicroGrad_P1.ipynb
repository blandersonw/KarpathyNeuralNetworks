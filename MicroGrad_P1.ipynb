{
  "nbformat": 4,
  "nbformat_minor": 0,
  "metadata": {
    "colab": {
      "provenance": [],
      "authorship_tag": "ABX9TyP7bJej3BP7jNtQNreuvd3v",
      "include_colab_link": true
    },
    "kernelspec": {
      "name": "python3",
      "display_name": "Python 3"
    },
    "language_info": {
      "name": "python"
    }
  },
  "cells": [
    {
      "cell_type": "markdown",
      "metadata": {
        "id": "view-in-github",
        "colab_type": "text"
      },
      "source": [
        "<a href=\"https://colab.research.google.com/github/blandersonw/KarpathyNeuralNetworks/blob/main/MicroGrad_P1.ipynb\" target=\"_parent\"><img src=\"https://colab.research.google.com/assets/colab-badge.svg\" alt=\"Open In Colab\"/></a>"
      ]
    },
    {
      "cell_type": "code",
      "execution_count": 1,
      "metadata": {
        "id": "2MZgPmjnIAIm"
      },
      "outputs": [],
      "source": [
        "import math\n",
        "import numpy as np\n",
        "import matplotlib.pyplot as plt\n",
        "%matplotlib inline"
      ]
    },
    {
      "cell_type": "code",
      "source": [
        "def f(x):\n",
        "  return 3*x**2-4*x+5"
      ],
      "metadata": {
        "id": "29RZuOwrIgYG"
      },
      "execution_count": 2,
      "outputs": []
    },
    {
      "cell_type": "code",
      "source": [
        "f(3.0)"
      ],
      "metadata": {
        "colab": {
          "base_uri": "https://localhost:8080/"
        },
        "id": "4yRWkGajMrJ0",
        "outputId": "5877bd5e-2c4d-4255-8868-03abb90aff29"
      },
      "execution_count": 3,
      "outputs": [
        {
          "output_type": "execute_result",
          "data": {
            "text/plain": [
              "20.0"
            ]
          },
          "metadata": {},
          "execution_count": 3
        }
      ]
    },
    {
      "cell_type": "code",
      "source": [
        "xs = np.arange(-5,5,.25)\n",
        "ys = f(xs)\n",
        "\n",
        "plt.plot(xs,ys)"
      ],
      "metadata": {
        "colab": {
          "base_uri": "https://localhost:8080/",
          "height": 283
        },
        "id": "ezEPvfHXMs-P",
        "outputId": "36838490-b4c3-4196-d80e-0cce480dbc3e"
      },
      "execution_count": 4,
      "outputs": [
        {
          "output_type": "execute_result",
          "data": {
            "text/plain": [
              "[<matplotlib.lines.Line2D at 0x7f1dcfc705e0>]"
            ]
          },
          "metadata": {},
          "execution_count": 4
        },
        {
          "output_type": "display_data",
          "data": {
            "text/plain": [
              "<Figure size 432x288 with 1 Axes>"
            ],
            "image/png": "[encoded data removed]"
          },
          "metadata": {
            "needs_background": "light"
          }
        }
      ]
    },
    {
      "cell_type": "code",
      "source": [
        "#definition of the derivative\n",
        "h= 0.0001\n",
        "x = 2/3\n",
        "(f(x+h)-f(x))/h"
      ],
      "metadata": {
        "colab": {
          "base_uri": "https://localhost:8080/"
        },
        "id": "Lu3VzJsJM3o0",
        "outputId": "740aacd3-3dc6-4292-daa1-747e401a91b1"
      },
      "execution_count": 5,
      "outputs": [
        {
          "output_type": "execute_result",
          "data": {
            "text/plain": [
              "0.0002999999981767587"
            ]
          },
          "metadata": {},
          "execution_count": 5
        }
      ]
    },
    {
      "cell_type": "code",
      "source": [
        "#product rule next\n",
        "a = 2.0\n",
        "b = -3.0\n",
        "c = 10.0\n",
        "\n",
        "d = a*b+c\n",
        "\n",
        "print(d)"
      ],
      "metadata": {
        "colab": {
          "base_uri": "https://localhost:8080/"
        },
        "id": "sjqUsKQUNWlw",
        "outputId": "95df32e3-253f-422e-8dbb-c9f7cf9e7378"
      },
      "execution_count": 6,
      "outputs": [
        {
          "output_type": "stream",
          "name": "stdout",
          "text": [
            "4.0\n"
          ]
        }
      ]
    },
    {
      "cell_type": "code",
      "source": [
        "h = 0.0001\n",
        "\n",
        "a = 2.0\n",
        "b = -3.0\n",
        "c = 10.0\n",
        "\n",
        "d1 = a*b+c\n",
        "#dd/da: a += h -> -3\n",
        "#dd/db: b += h -> 2\n",
        "#dd/dc: b += h -> 1\n",
        "#THINK COEFFICIENT HERE\n",
        "d2 = a*b+c\n",
        "(d2-d1)/h"
      ],
      "metadata": {
        "colab": {
          "base_uri": "https://localhost:8080/"
        },
        "id": "9ORLeDwHNdZx",
        "outputId": "19e675ea-463a-4405-ece7-622501c51ba1"
      },
      "execution_count": 7,
      "outputs": [
        {
          "output_type": "execute_result",
          "data": {
            "text/plain": [
              "0.0"
            ]
          },
          "metadata": {},
          "execution_count": 7
        }
      ]
    },
    {
      "cell_type": "code",
      "source": [
        "class Value:\n",
        "\n",
        "  def __init__(self, data, _children=(), _op='', label = ''):\n",
        "    self.data = data\n",
        "    self.grad = 0.0\n",
        "    self._backward = lambda: None\n",
        "    self._prev = set(_children)\n",
        "    self._op = _op\n",
        "    self.label = label\n",
        "\n",
        "  #repr just formats our output\n",
        "  def __repr__(self):\n",
        "    return(f\"Value(data={self.data})\")\n",
        "  \n",
        "  def __add__(self,other):\n",
        "    other = other if isinstance(other,Value) else Value(other)\n",
        "    out = Value(self.data + other.data, (self,other), '+')\n",
        "      \n",
        "    def _backward():\n",
        "      self.grad += 1.0 * out.grad\n",
        "      other.grad += 1.0 * out.grad\n",
        "    \n",
        "    out._backward = _backward\n",
        "    \n",
        "    return out \n",
        "  \n",
        "  def __mul__(self,other):\n",
        "    other = other if isinstance(other,Value) else Value(other)\n",
        "    out = Value(self.data * other.data, (self,other), '*')\n",
        "\n",
        "    def _backward():\n",
        "      self.grad += other.data * out.grad\n",
        "      other.grad += self.data * out.grad\n",
        "\n",
        "    out._backward = _backward\n",
        "\n",
        "    return out \n",
        "  \n",
        "  def __pow__(self,other):\n",
        "    assert isinstance(other, (int,float))\n",
        "    out = Value(self.data**other, (self,), f'**{other}')\n",
        "\n",
        "    def _backward():\n",
        "      self.grad += other * (self.data ** (other - 1)) * out.grad\n",
        "    \n",
        "    out._backward = _backward\n",
        "\n",
        "    return out\n",
        "\n",
        "  def __rmul__(self,other):\n",
        "    return self*other\n",
        "  \n",
        "  def __truediv__(self,other):\n",
        "    return self*other**-1\n",
        "  \n",
        "  def __neg__(self):\n",
        "    return self*-1\n",
        "  \n",
        "  def __sub__(self,other):\n",
        "    return(self + (-other))\n",
        "\n",
        "  def __radd__(self,other):\n",
        "    return self+other\n",
        "\n",
        "  def tanh(self):\n",
        "    x = self.data\n",
        "    t = (math.exp(2*x) - 1) / (math.exp(2*x) + 1)\n",
        "    out = Value(t, (self,), 'tanh')\n",
        "\n",
        "    def _backward():\n",
        "      self.grad += (1- t**2) * out.grad\n",
        "\n",
        "    out._backward = _backward\n",
        "\n",
        "    return out\n",
        "  \n",
        "  def exp(self):\n",
        "    x = self.data\n",
        "    out = Value(math.exp(x), (self,), 'exp')\n",
        "    \n",
        "    def _backward():\n",
        "      self.grad += out.data * out.grad\n",
        "    out._backward = _backward\n",
        "\n",
        "    return out\n",
        "\n",
        "  def backward(self):\n",
        "    topo = []\n",
        "    visited = set()\n",
        "    def build_topo(v):\n",
        "      if v not in visited:\n",
        "        visited.add(v)\n",
        "        for child in v._prev:\n",
        "          build_topo(child)\n",
        "        topo.append(v)\n",
        "    build_topo(self)\n",
        "\n",
        "    self.grad = 1.0\n",
        "    for node in reversed(topo):\n",
        "      node._backward()\n",
        "  \n",
        "a = Value(2.0, label='a')\n",
        "b = Value(-3.0, label='b')\n",
        "c = Value(10.0, label='c')\n",
        "e = a * b; e.label='e'\n",
        "d = e + c; d.label = 'd'\n",
        "f = Value(-2.0, label = 'f')\n",
        "L = d*f; L.label='L'\n"
      ],
      "metadata": {
        "id": "OoOt4I4vOT36"
      },
      "execution_count": 24,
      "outputs": []
    },
    {
      "cell_type": "code",
      "source": [
        "d._prev"
      ],
      "metadata": {
        "colab": {
          "base_uri": "https://localhost:8080/"
        },
        "id": "LgspHLREPrTo",
        "outputId": "68c4fd96-884a-4ed1-cb7a-8ee229d4b19b"
      },
      "execution_count": 9,
      "outputs": [
        {
          "output_type": "execute_result",
          "data": {
            "text/plain": [
              "{Value(data=-6.0), Value(data=10.0)}"
            ]
          },
          "metadata": {},
          "execution_count": 9
        }
      ]
    },
    {
      "cell_type": "code",
      "source": [
        "d._op"
      ],
      "metadata": {
        "colab": {
          "base_uri": "https://localhost:8080/",
          "height": 35
        },
        "id": "pj1Yy4OEPsht",
        "outputId": "4c10c3c3-029a-4d20-8d04-52ec62a1e99f"
      },
      "execution_count": 10,
      "outputs": [
        {
          "output_type": "execute_result",
          "data": {
            "text/plain": [
              "'+'"
            ],
            "application/vnd.google.colaboratory.intrinsic+json": {
              "type": "string"
            }
          },
          "metadata": {},
          "execution_count": 10
        }
      ]
    },
    {
      "cell_type": "code",
      "source": [
        "from graphviz import Digraph\n",
        "\n",
        "def trace(root):\n",
        "  nodes, edges = set(), set()\n",
        "  def build(v):\n",
        "    if v not in nodes:\n",
        "      nodes.add(v)\n",
        "      for child in v._prev:\n",
        "        edges.add((child,v))\n",
        "        build(child)\n",
        "  build(root)\n",
        "  return(nodes,edges)\n",
        "\n",
        "def draw_dot(root):\n",
        "  dot = Digraph(format = 'svg', graph_attr={'rankdir': 'LR'})\n",
        "\n",
        "  nodes, edges = trace(root)\n",
        "  for n in nodes:\n",
        "    uid = str(id(n))\n",
        "\n",
        "    dot.node(name = uid, label = \"{ %s | data %.4f | grad %.4f }\" % (n.label, n.data, n.grad), shape = 'record')\n",
        "    if n._op:\n",
        "      dot.node(name = uid + n._op, label = n._op)\n",
        "      dot.edge(uid + n._op,uid)\n",
        "    \n",
        "  for n1, n2 in edges:\n",
        "    dot.edge(str(id(n1)), str(id(n2)) + n2._op)\n",
        "  \n",
        "  return dot\n"
      ],
      "metadata": {
        "id": "lY9LMrVkQQc-"
      },
      "execution_count": 11,
      "outputs": []
    },
    {
      "cell_type": "code",
      "source": [
        "draw_dot(L)\n",
        "#Visualizing FORWARD pass"
      ],
      "metadata": {
        "colab": {
          "base_uri": "https://localhost:8080/",
          "height": 212
        },
        "id": "TcZFk0WyReo1",
        "outputId": "93fe07bc-0f35-40af-c7e8-7b124251a717"
      },
      "execution_count": 12,
      "outputs": [
        {
          "output_type": "execute_result",
          "data": {
            "text/plain": [
              "<graphviz.dot.Digraph at 0x7f1dcfc2b0d0>"
            ],
            "image/svg+xml": "<?xml version=\"1.0\" encoding=\"UTF-8\" standalone=\"no\"?>\n<!DOCTYPE svg PUBLIC \"-//W3C//DTD SVG 1.1//EN\"\n \"http://www.w3.org/Graphics/SVG/1.1/DTD/svg11.dtd\">\n<!-- Generated by graphviz version 2.40.1 (20161225.0304)\n -->\n<!-- Title: %3 Pages: 1 -->\n<svg width=\"1187pt\" height=\"128pt\"\n viewBox=\"0.00 0.00 1187.00 128.00\" xmlns=\"http://www.w3.org/2000/svg\" xmlns:xlink=\"http://www.w3.org/1999/xlink\">\n<g id=\"graph0\" class=\"graph\" transform=\"scale(1 1) rotate(0) translate(4 124)\">\n<title>%3</title>\n<polygon fill=\"#ffffff\" stroke=\"transparent\" points=\"-4,4 -4,-124 1183,-124 1183,4 -4,4\"/>\n<!-- 139766011713616 -->\n<g id=\"node1\" class=\"node\">\n<title>139766011713616</title>\n<polygon fill=\"none\" stroke=\"#000000\" points=\"654,-82.5 654,-118.5 851,-118.5 851,-82.5 654,-82.5\"/>\n<text text-anchor=\"middle\" x=\"664.5\" y=\"-96.8\" font-family=\"Times,serif\" font-size=\"14.00\" fill=\"#000000\">f</text>\n<polyline fill=\"none\" stroke=\"#000000\" points=\"675,-82.5 675,-118.5 \"/>\n<text text-anchor=\"middle\" x=\"719.5\" y=\"-96.8\" font-family=\"Times,serif\" font-size=\"14.00\" fill=\"#000000\">data &#45;2.0000</text>\n<polyline fill=\"none\" stroke=\"#000000\" points=\"764,-82.5 764,-118.5 \"/>\n<text text-anchor=\"middle\" x=\"807.5\" y=\"-96.8\" font-family=\"Times,serif\" font-size=\"14.00\" fill=\"#000000\">grad 0.0000</text>\n</g>\n<!-- 139766011713904* -->\n<g id=\"node7\" class=\"node\">\n<title>139766011713904*</title>\n<ellipse fill=\"none\" stroke=\"#000000\" cx=\"914\" cy=\"-72.5\" rx=\"27\" ry=\"18\"/>\n<text text-anchor=\"middle\" x=\"914\" y=\"-68.8\" font-family=\"Times,serif\" font-size=\"14.00\" fill=\"#000000\">*</text>\n</g>\n<!-- 139766011713616&#45;&gt;139766011713904* -->\n<g id=\"edge6\" class=\"edge\">\n<title>139766011713616&#45;&gt;139766011713904*</title>\n<path fill=\"none\" stroke=\"#000000\" d=\"M851.0974,-83.4057C860.5173,-81.7725 869.5961,-80.1985 877.7856,-78.7787\"/>\n<polygon fill=\"#000000\" stroke=\"#000000\" points=\"878.387,-82.2267 887.6421,-77.0698 877.1912,-75.3296 878.387,-82.2267\"/>\n</g>\n<!-- 139766011712176 -->\n<g id=\"node2\" class=\"node\">\n<title>139766011712176</title>\n<polygon fill=\"none\" stroke=\"#000000\" points=\"654.5,-27.5 654.5,-63.5 850.5,-63.5 850.5,-27.5 654.5,-27.5\"/>\n<text text-anchor=\"middle\" x=\"666.5\" y=\"-41.8\" font-family=\"Times,serif\" font-size=\"14.00\" fill=\"#000000\">d</text>\n<polyline fill=\"none\" stroke=\"#000000\" points=\"678.5,-27.5 678.5,-63.5 \"/>\n<text text-anchor=\"middle\" x=\"721\" y=\"-41.8\" font-family=\"Times,serif\" font-size=\"14.00\" fill=\"#000000\">data 4.0000</text>\n<polyline fill=\"none\" stroke=\"#000000\" points=\"763.5,-27.5 763.5,-63.5 \"/>\n<text text-anchor=\"middle\" x=\"807\" y=\"-41.8\" font-family=\"Times,serif\" font-size=\"14.00\" fill=\"#000000\">grad 0.0000</text>\n</g>\n<!-- 139766011712176&#45;&gt;139766011713904* -->\n<g id=\"edge8\" class=\"edge\">\n<title>139766011712176&#45;&gt;139766011713904*</title>\n<path fill=\"none\" stroke=\"#000000\" d=\"M850.6344,-61.9064C860.2015,-63.5058 869.4268,-65.0481 877.738,-66.4376\"/>\n<polygon fill=\"#000000\" stroke=\"#000000\" points=\"877.2933,-69.9118 887.7336,-68.1087 878.4477,-63.0076 877.2933,-69.9118\"/>\n</g>\n<!-- 139766011712176+ -->\n<g id=\"node3\" class=\"node\">\n<title>139766011712176+</title>\n<ellipse fill=\"none\" stroke=\"#000000\" cx=\"591\" cy=\"-45.5\" rx=\"27\" ry=\"18\"/>\n<text text-anchor=\"middle\" x=\"591\" y=\"-41.8\" font-family=\"Times,serif\" font-size=\"14.00\" fill=\"#000000\">+</text>\n</g>\n<!-- 139766011712176+&#45;&gt;139766011712176 -->\n<g id=\"edge1\" class=\"edge\">\n<title>139766011712176+&#45;&gt;139766011712176</title>\n<path fill=\"none\" stroke=\"#000000\" d=\"M618.0315,-45.5C625.7623,-45.5 634.6953,-45.5 644.2076,-45.5\"/>\n<polygon fill=\"#000000\" stroke=\"#000000\" points=\"644.3041,-49.0001 654.304,-45.5 644.304,-42.0001 644.3041,-49.0001\"/>\n</g>\n<!-- 139766011713328 -->\n<g id=\"node4\" class=\"node\">\n<title>139766011713328</title>\n<polygon fill=\"none\" stroke=\"#000000\" points=\"327.5,-55.5 327.5,-91.5 526.5,-91.5 526.5,-55.5 327.5,-55.5\"/>\n<text text-anchor=\"middle\" x=\"339\" y=\"-69.8\" font-family=\"Times,serif\" font-size=\"14.00\" fill=\"#000000\">e</text>\n<polyline fill=\"none\" stroke=\"#000000\" points=\"350.5,-55.5 350.5,-91.5 \"/>\n<text text-anchor=\"middle\" x=\"395\" y=\"-69.8\" font-family=\"Times,serif\" font-size=\"14.00\" fill=\"#000000\">data &#45;6.0000</text>\n<polyline fill=\"none\" stroke=\"#000000\" points=\"439.5,-55.5 439.5,-91.5 \"/>\n<text text-anchor=\"middle\" x=\"483\" y=\"-69.8\" font-family=\"Times,serif\" font-size=\"14.00\" fill=\"#000000\">grad 0.0000</text>\n</g>\n<!-- 139766011713328&#45;&gt;139766011712176+ -->\n<g id=\"edge9\" class=\"edge\">\n<title>139766011713328&#45;&gt;139766011712176+</title>\n<path fill=\"none\" stroke=\"#000000\" d=\"M526.6536,-56.486C536.572,-54.7926 546.1287,-53.1609 554.7053,-51.6967\"/>\n<polygon fill=\"#000000\" stroke=\"#000000\" points=\"555.3709,-55.1338 564.6392,-50.0006 554.1928,-48.2336 555.3709,-55.1338\"/>\n</g>\n<!-- 139766011713328* -->\n<g id=\"node5\" class=\"node\">\n<title>139766011713328*</title>\n<ellipse fill=\"none\" stroke=\"#000000\" cx=\"263\" cy=\"-73.5\" rx=\"27\" ry=\"18\"/>\n<text text-anchor=\"middle\" x=\"263\" y=\"-69.8\" font-family=\"Times,serif\" font-size=\"14.00\" fill=\"#000000\">*</text>\n</g>\n<!-- 139766011713328*&#45;&gt;139766011713328 -->\n<g id=\"edge2\" class=\"edge\">\n<title>139766011713328*&#45;&gt;139766011713328</title>\n<path fill=\"none\" stroke=\"#000000\" d=\"M290.0813,-73.5C298.0646,-73.5 307.3332,-73.5 317.212,-73.5\"/>\n<polygon fill=\"#000000\" stroke=\"#000000\" points=\"317.2693,-77.0001 327.2693,-73.5 317.2692,-70.0001 317.2693,-77.0001\"/>\n</g>\n<!-- 139766011713904 -->\n<g id=\"node6\" class=\"node\">\n<title>139766011713904</title>\n<polygon fill=\"none\" stroke=\"#000000\" points=\"977,-54.5 977,-90.5 1179,-90.5 1179,-54.5 977,-54.5\"/>\n<text text-anchor=\"middle\" x=\"990\" y=\"-68.8\" font-family=\"Times,serif\" font-size=\"14.00\" fill=\"#000000\">L</text>\n<polyline fill=\"none\" stroke=\"#000000\" points=\"1003,-54.5 1003,-90.5 \"/>\n<text text-anchor=\"middle\" x=\"1047.5\" y=\"-68.8\" font-family=\"Times,serif\" font-size=\"14.00\" fill=\"#000000\">data &#45;8.0000</text>\n<polyline fill=\"none\" stroke=\"#000000\" points=\"1092,-54.5 1092,-90.5 \"/>\n<text text-anchor=\"middle\" x=\"1135.5\" y=\"-68.8\" font-family=\"Times,serif\" font-size=\"14.00\" fill=\"#000000\">grad 0.0000</text>\n</g>\n<!-- 139766011713904*&#45;&gt;139766011713904 -->\n<g id=\"edge3\" class=\"edge\">\n<title>139766011713904*&#45;&gt;139766011713904</title>\n<path fill=\"none\" stroke=\"#000000\" d=\"M941.0813,-72.5C948.631,-72.5 957.3302,-72.5 966.608,-72.5\"/>\n<polygon fill=\"#000000\" stroke=\"#000000\" points=\"966.8754,-76.0001 976.8754,-72.5 966.8754,-69.0001 966.8754,-76.0001\"/>\n</g>\n<!-- 139766011711888 -->\n<g id=\"node8\" class=\"node\">\n<title>139766011711888</title>\n<polygon fill=\"none\" stroke=\"#000000\" points=\"2.5,-83.5 2.5,-119.5 197.5,-119.5 197.5,-83.5 2.5,-83.5\"/>\n<text text-anchor=\"middle\" x=\"14\" y=\"-97.8\" font-family=\"Times,serif\" font-size=\"14.00\" fill=\"#000000\">a</text>\n<polyline fill=\"none\" stroke=\"#000000\" points=\"25.5,-83.5 25.5,-119.5 \"/>\n<text text-anchor=\"middle\" x=\"68\" y=\"-97.8\" font-family=\"Times,serif\" font-size=\"14.00\" fill=\"#000000\">data 2.0000</text>\n<polyline fill=\"none\" stroke=\"#000000\" points=\"110.5,-83.5 110.5,-119.5 \"/>\n<text text-anchor=\"middle\" x=\"154\" y=\"-97.8\" font-family=\"Times,serif\" font-size=\"14.00\" fill=\"#000000\">grad 0.0000</text>\n</g>\n<!-- 139766011711888&#45;&gt;139766011713328* -->\n<g id=\"edge5\" class=\"edge\">\n<title>139766011711888&#45;&gt;139766011713328*</title>\n<path fill=\"none\" stroke=\"#000000\" d=\"M197.6409,-84.7273C207.9722,-82.9526 217.943,-81.2399 226.8529,-79.7093\"/>\n<polygon fill=\"#000000\" stroke=\"#000000\" points=\"227.5199,-83.1461 236.783,-78.0035 226.3347,-76.2471 227.5199,-83.1461\"/>\n</g>\n<!-- 139766011711936 -->\n<g id=\"node9\" class=\"node\">\n<title>139766011711936</title>\n<polygon fill=\"none\" stroke=\"#000000\" points=\"326,-.5 326,-36.5 528,-36.5 528,-.5 326,-.5\"/>\n<text text-anchor=\"middle\" x=\"337.5\" y=\"-14.8\" font-family=\"Times,serif\" font-size=\"14.00\" fill=\"#000000\">c</text>\n<polyline fill=\"none\" stroke=\"#000000\" points=\"349,-.5 349,-36.5 \"/>\n<text text-anchor=\"middle\" x=\"395\" y=\"-14.8\" font-family=\"Times,serif\" font-size=\"14.00\" fill=\"#000000\">data 10.0000</text>\n<polyline fill=\"none\" stroke=\"#000000\" points=\"441,-.5 441,-36.5 \"/>\n<text text-anchor=\"middle\" x=\"484.5\" y=\"-14.8\" font-family=\"Times,serif\" font-size=\"14.00\" fill=\"#000000\">grad 0.0000</text>\n</g>\n<!-- 139766011711936&#45;&gt;139766011712176+ -->\n<g id=\"edge7\" class=\"edge\">\n<title>139766011711936&#45;&gt;139766011712176+</title>\n<path fill=\"none\" stroke=\"#000000\" d=\"M528.0623,-35.1383C537.4122,-36.6776 546.412,-38.1593 554.5381,-39.4971\"/>\n<polygon fill=\"#000000\" stroke=\"#000000\" points=\"554.2375,-42.9947 564.6733,-41.1657 555.3747,-36.0877 554.2375,-42.9947\"/>\n</g>\n<!-- 139766011711984 -->\n<g id=\"node10\" class=\"node\">\n<title>139766011711984</title>\n<polygon fill=\"none\" stroke=\"#000000\" points=\"0,-28.5 0,-64.5 200,-64.5 200,-28.5 0,-28.5\"/>\n<text text-anchor=\"middle\" x=\"12\" y=\"-42.8\" font-family=\"Times,serif\" font-size=\"14.00\" fill=\"#000000\">b</text>\n<polyline fill=\"none\" stroke=\"#000000\" points=\"24,-28.5 24,-64.5 \"/>\n<text text-anchor=\"middle\" x=\"68.5\" y=\"-42.8\" font-family=\"Times,serif\" font-size=\"14.00\" fill=\"#000000\">data &#45;3.0000</text>\n<polyline fill=\"none\" stroke=\"#000000\" points=\"113,-28.5 113,-64.5 \"/>\n<text text-anchor=\"middle\" x=\"156.5\" y=\"-42.8\" font-family=\"Times,serif\" font-size=\"14.00\" fill=\"#000000\">grad 0.0000</text>\n</g>\n<!-- 139766011711984&#45;&gt;139766011713328* -->\n<g id=\"edge4\" class=\"edge\">\n<title>139766011711984&#45;&gt;139766011713328*</title>\n<path fill=\"none\" stroke=\"#000000\" d=\"M200.4461,-63.1383C209.6478,-64.6625 218.5084,-66.1302 226.5226,-67.4577\"/>\n<polygon fill=\"#000000\" stroke=\"#000000\" points=\"226.0904,-70.9338 236.528,-69.1151 227.2344,-64.0279 226.0904,-70.9338\"/>\n</g>\n</g>\n</svg>\n"
          },
          "metadata": {},
          "execution_count": 12
        }
      ]
    },
    {
      "cell_type": "code",
      "source": [
        "L.grad = 1.0\n",
        "f.grad = 4.0\n",
        "d.grad = -2.0\n",
        "e.grad = -2.0\n",
        "c.grad = -2.0\n",
        "a.grad = 6.0\n",
        "b.grad = -4.0\n"
      ],
      "metadata": {
        "id": "HX97ShpDdgDT"
      },
      "execution_count": 13,
      "outputs": []
    },
    {
      "cell_type": "code",
      "source": [
        "a.data += .01 * a.grad\n",
        "b.data += .01 * b.grad\n",
        "c.data += .01 * c.grad\n",
        "f.data += .01 * f.grad\n",
        "\n",
        "e = a*b\n",
        "d = e+c\n",
        "L = d*f\n",
        "\n",
        "print(L.data)"
      ],
      "metadata": {
        "colab": {
          "base_uri": "https://localhost:8080/"
        },
        "id": "bopJe8asgx-d",
        "outputId": "e530628c-a0ef-4736-a40c-5477b2e60446"
      },
      "execution_count": 14,
      "outputs": [
        {
          "output_type": "stream",
          "name": "stdout",
          "text": [
            "-7.286496\n"
          ]
        }
      ]
    },
    {
      "cell_type": "code",
      "source": [
        "\"\"\"\n",
        "MOST IMPORTANT PART OF BACK PROPOGATION\n",
        "dd / dc = ??\n",
        "d = c+e ===> dd/dc = 1.0'\n",
        "\n",
        "dL / dc = (dL / dd) * (dd/dc)\n",
        "dL / dc = (-2.0) * (1.0)\n",
        "\n",
        "dL / da = ??\n",
        "dL / da = (dL/dc) * (dc / da)\n",
        "= -2.0 * -3.0 = 6.0\n",
        "\"\"\""
      ],
      "metadata": {
        "colab": {
          "base_uri": "https://localhost:8080/",
          "height": 71
        },
        "id": "ZTHbuSl9enqW",
        "outputId": "864f503f-d8fc-4f9b-e5ba-29298932c668"
      },
      "execution_count": 15,
      "outputs": [
        {
          "output_type": "execute_result",
          "data": {
            "text/plain": [
              "\"\\nMOST IMPORTANT PART OF BACK PROPOGATION\\ndd / dc = ??\\nd = c+e ===> dd/dc = 1.0'\\n\\ndL / dc = (dL / dd) * (dd/dc)\\ndL / dc = (-2.0) * (1.0)\\n\\ndL / da = ??\\ndL / da = (dL/dc) * (dc / da)\\n= -2.0 * -3.0 = 6.0\\n\""
            ],
            "application/vnd.google.colaboratory.intrinsic+json": {
              "type": "string"
            }
          },
          "metadata": {},
          "execution_count": 15
        }
      ]
    },
    {
      "cell_type": "code",
      "source": [
        "def lol():\n",
        "  h = 0.001\n",
        "\n",
        "  a = Value(2.0, label='a')\n",
        "  b = Value(-3.0, label='b')\n",
        "  c = Value(10.0, label='c')\n",
        "  e = a * b; e.label='e'\n",
        "  d = e + c; d.label = 'd'\n",
        "  f = Value(-2.0, label = 'f')\n",
        "  L = d*f; L.label='L'\n",
        "  L1 = L.data\n",
        "\n",
        "  a = Value(2.0, label='a')\n",
        "  b = Value(-3.0, label='b')\n",
        "  c = Value(10.0, label='c')\n",
        "  e = a * b; e.label='e'\n",
        "  d = e + c; d.label = 'd'\n",
        "  f = Value(-2.0, label = 'f')\n",
        "  L = d*f; L.label='L'\n",
        "  L2 = L.data\n",
        "  print((L2-L1)/h)\n",
        "\n",
        "lol()"
      ],
      "metadata": {
        "id": "SxNDbE-6Ta01",
        "colab": {
          "base_uri": "https://localhost:8080/"
        },
        "outputId": "465b7eb2-8465-45a2-d394-479df6226f56"
      },
      "execution_count": 16,
      "outputs": [
        {
          "output_type": "stream",
          "name": "stdout",
          "text": [
            "0.0\n"
          ]
        }
      ]
    },
    {
      "cell_type": "code",
      "source": [
        "plt.plot(np.arange(-5,5,.2), np.tanh(np.arange(-5,5,.2)))\n",
        "plt.grid()"
      ],
      "metadata": {
        "colab": {
          "base_uri": "https://localhost:8080/",
          "height": 265
        },
        "id": "nep8Xb2Sel6X",
        "outputId": "f202407a-b82b-4515-92ca-5a2debe069d9"
      },
      "execution_count": 17,
      "outputs": [
        {
          "output_type": "display_data",
          "data": {
            "text/plain": [
              "<Figure size 432x288 with 1 Axes>"
            ],
            "image/png": "[encoded data removed]"
          },
          "metadata": {
            "needs_background": "light"
          }
        }
      ]
    },
    {
      "cell_type": "code",
      "source": [
        "x1 = Value(2.0, label='x1')\n",
        "x2 = Value(0.0, label='x2')\n",
        "\n",
        "w1 = Value(-3.0, label = 'w1')\n",
        "w2 = Value(1.0, label = 'w2')\n",
        "\n",
        "b = Value(6.88137, label='b')\n",
        "\n",
        "x1w1 = x1*w1; x1w1.label='x1*w1'\n",
        "x2w2 = x2*w2; x2w2.label='x2*w2'\n",
        "\n",
        "x1w1x2w2 = x1w1 + x2w2; x1w1x2w2.label = 'x1w1 + x2w2'\n",
        "\n",
        "n = x1w1x2w2+b; n.label='n'\n",
        "\n",
        "e = (2*n).exp()\n",
        "o = (e-1)/(e+1); o.label = 'o'\n",
        "o.backward()\n",
        "draw_dot(o)"
      ],
      "metadata": {
        "colab": {
          "base_uri": "https://localhost:8080/",
          "height": 356
        },
        "id": "qyscb7uji683",
        "outputId": "43e46b5c-c7ea-4463-8ef5-fb83ca07d221"
      },
      "execution_count": 25,
      "outputs": [
        {
          "output_type": "execute_result",
          "data": {
            "text/plain": [
              "<graphviz.dot.Digraph at 0x7f1dd478ed30>"
            ],
            "image/svg+xml": "<?xml version=\"1.0\" encoding=\"UTF-8\" standalone=\"no\"?>\n<!DOCTYPE svg PUBLIC \"-//W3C//DTD SVG 1.1//EN\"\n \"http://www.w3.org/Graphics/SVG/1.1/DTD/svg11.dtd\">\n<!-- Generated by graphviz version 2.40.1 (20161225.0304)\n -->\n<!-- Title: %3 Pages: 1 -->\n<svg width=\"3042pt\" height=\"236pt\"\n viewBox=\"0.00 0.00 3042.00 236.00\" xmlns=\"http://www.w3.org/2000/svg\" xmlns:xlink=\"http://www.w3.org/1999/xlink\">\n<g id=\"graph0\" class=\"graph\" transform=\"scale(1 1) rotate(0) translate(4 232)\">\n<title>%3</title>\n<polygon fill=\"#ffffff\" stroke=\"transparent\" points=\"-4,4 -4,-232 3038,-232 3038,4 -4,4\"/>\n<!-- 139766011163168 -->\n<g id=\"node1\" class=\"node\">\n<title>139766011163168</title>\n<polygon fill=\"none\" stroke=\"#000000\" points=\"1098,-164.5 1098,-200.5 1290,-200.5 1290,-164.5 1098,-164.5\"/>\n<text text-anchor=\"middle\" x=\"1108\" y=\"-178.8\" font-family=\"Times,serif\" font-size=\"14.00\" fill=\"#000000\"> </text>\n<polyline fill=\"none\" stroke=\"#000000\" points=\"1118,-164.5 1118,-200.5 \"/>\n<text text-anchor=\"middle\" x=\"1160.5\" y=\"-178.8\" font-family=\"Times,serif\" font-size=\"14.00\" fill=\"#000000\">data 2.0000</text>\n<polyline fill=\"none\" stroke=\"#000000\" points=\"1203,-164.5 1203,-200.5 \"/>\n<text text-anchor=\"middle\" x=\"1246.5\" y=\"-178.8\" font-family=\"Times,serif\" font-size=\"14.00\" fill=\"#000000\">grad 0.2203</text>\n</g>\n<!-- 139766011164944* -->\n<g id=\"node17\" class=\"node\">\n<title>139766011164944*</title>\n<ellipse fill=\"none\" stroke=\"#000000\" cx=\"1355\" cy=\"-154.5\" rx=\"27\" ry=\"18\"/>\n<text text-anchor=\"middle\" x=\"1355\" y=\"-150.8\" font-family=\"Times,serif\" font-size=\"14.00\" fill=\"#000000\">*</text>\n</g>\n<!-- 139766011163168&#45;&gt;139766011164944* -->\n<g id=\"edge19\" class=\"edge\">\n<title>139766011163168&#45;&gt;139766011164944*</title>\n<path fill=\"none\" stroke=\"#000000\" d=\"M1290.4428,-165.7273C1300.4412,-163.9885 1310.0978,-162.3091 1318.7618,-160.8023\"/>\n<polygon fill=\"#000000\" stroke=\"#000000\" points=\"1319.5415,-164.2193 1328.7939,-159.0576 1318.342,-157.3228 1319.5415,-164.2193\"/>\n</g>\n<!-- 139766011163696 -->\n<g id=\"node2\" class=\"node\">\n<title>139766011163696</title>\n<polygon fill=\"none\" stroke=\"#000000\" points=\"2,-55.5 2,-91.5 209,-91.5 209,-55.5 2,-55.5\"/>\n<text text-anchor=\"middle\" x=\"19.5\" y=\"-69.8\" font-family=\"Times,serif\" font-size=\"14.00\" fill=\"#000000\">w2</text>\n<polyline fill=\"none\" stroke=\"#000000\" points=\"37,-55.5 37,-91.5 \"/>\n<text text-anchor=\"middle\" x=\"79.5\" y=\"-69.8\" font-family=\"Times,serif\" font-size=\"14.00\" fill=\"#000000\">data 1.0000</text>\n<polyline fill=\"none\" stroke=\"#000000\" points=\"122,-55.5 122,-91.5 \"/>\n<text text-anchor=\"middle\" x=\"165.5\" y=\"-69.8\" font-family=\"Times,serif\" font-size=\"14.00\" fill=\"#000000\">grad 0.0000</text>\n</g>\n<!-- 139766011163456* -->\n<g id=\"node21\" class=\"node\">\n<title>139766011163456*</title>\n<ellipse fill=\"none\" stroke=\"#000000\" cx=\"274\" cy=\"-73.5\" rx=\"27\" ry=\"18\"/>\n<text text-anchor=\"middle\" x=\"274\" y=\"-69.8\" font-family=\"Times,serif\" font-size=\"14.00\" fill=\"#000000\">*</text>\n</g>\n<!-- 139766011163696&#45;&gt;139766011163456* -->\n<g id=\"edge18\" class=\"edge\">\n<title>139766011163696&#45;&gt;139766011163456*</title>\n<path fill=\"none\" stroke=\"#000000\" d=\"M209.3354,-73.5C219.0497,-73.5 228.3963,-73.5 236.8187,-73.5\"/>\n<polygon fill=\"#000000\" stroke=\"#000000\" points=\"236.951,-77.0001 246.9509,-73.5 236.9509,-70.0001 236.951,-77.0001\"/>\n</g>\n<!-- 139766078155312 -->\n<g id=\"node3\" class=\"node\">\n<title>139766078155312</title>\n<polygon fill=\"none\" stroke=\"#000000\" points=\"2520,-112.5 2520,-148.5 2712,-148.5 2712,-112.5 2520,-112.5\"/>\n<text text-anchor=\"middle\" x=\"2530\" y=\"-126.8\" font-family=\"Times,serif\" font-size=\"14.00\" fill=\"#000000\"> </text>\n<polyline fill=\"none\" stroke=\"#000000\" points=\"2540,-112.5 2540,-148.5 \"/>\n<text text-anchor=\"middle\" x=\"2582.5\" y=\"-126.8\" font-family=\"Times,serif\" font-size=\"14.00\" fill=\"#000000\">data 0.1464</text>\n<polyline fill=\"none\" stroke=\"#000000\" points=\"2625,-112.5 2625,-148.5 \"/>\n<text text-anchor=\"middle\" x=\"2668.5\" y=\"-126.8\" font-family=\"Times,serif\" font-size=\"14.00\" fill=\"#000000\">grad 4.8284</text>\n</g>\n<!-- 139766011714192* -->\n<g id=\"node10\" class=\"node\">\n<title>139766011714192*</title>\n<ellipse fill=\"none\" stroke=\"#000000\" cx=\"2775\" cy=\"-153.5\" rx=\"27\" ry=\"18\"/>\n<text text-anchor=\"middle\" x=\"2775\" y=\"-149.8\" font-family=\"Times,serif\" font-size=\"14.00\" fill=\"#000000\">*</text>\n</g>\n<!-- 139766078155312&#45;&gt;139766011714192* -->\n<g id=\"edge27\" class=\"edge\">\n<title>139766078155312&#45;&gt;139766011714192*</title>\n<path fill=\"none\" stroke=\"#000000\" d=\"M2712.159,-144.4098C2721.3446,-145.7385 2730.2195,-147.0223 2738.263,-148.1858\"/>\n<polygon fill=\"#000000\" stroke=\"#000000\" points=\"2737.9161,-151.672 2748.3142,-149.6398 2738.9183,-144.7441 2737.9161,-151.672\"/>\n</g>\n<!-- 139766078155312**&#45;1 -->\n<g id=\"node4\" class=\"node\">\n<title>139766078155312**&#45;1</title>\n<ellipse fill=\"none\" stroke=\"#000000\" cx=\"2388\" cy=\"-126.5\" rx=\"28.6953\" ry=\"18\"/>\n<text text-anchor=\"middle\" x=\"2388\" y=\"-122.8\" font-family=\"Times,serif\" font-size=\"14.00\" fill=\"#000000\">**&#45;1</text>\n</g>\n<!-- 139766078155312**&#45;1&#45;&gt;139766078155312 -->\n<g id=\"edge1\" class=\"edge\">\n<title>139766078155312**&#45;1&#45;&gt;139766078155312</title>\n<path fill=\"none\" stroke=\"#000000\" d=\"M2416.8764,-127.0066C2440.5427,-127.4218 2475.5807,-128.0365 2509.6954,-128.635\"/>\n<polygon fill=\"#000000\" stroke=\"#000000\" points=\"2509.6994,-132.1355 2519.7593,-128.8116 2509.8222,-125.1366 2509.6994,-132.1355\"/>\n</g>\n<!-- 139766011163744 -->\n<g id=\"node5\" class=\"node\">\n<title>139766011163744</title>\n<polygon fill=\"none\" stroke=\"#000000\" points=\"337,-110.5 337,-146.5 570,-146.5 570,-110.5 337,-110.5\"/>\n<text text-anchor=\"middle\" x=\"365.5\" y=\"-124.8\" font-family=\"Times,serif\" font-size=\"14.00\" fill=\"#000000\">x1*w1</text>\n<polyline fill=\"none\" stroke=\"#000000\" points=\"394,-110.5 394,-146.5 \"/>\n<text text-anchor=\"middle\" x=\"438.5\" y=\"-124.8\" font-family=\"Times,serif\" font-size=\"14.00\" fill=\"#000000\">data &#45;6.0000</text>\n<polyline fill=\"none\" stroke=\"#000000\" points=\"483,-110.5 483,-146.5 \"/>\n<text text-anchor=\"middle\" x=\"526.5\" y=\"-124.8\" font-family=\"Times,serif\" font-size=\"14.00\" fill=\"#000000\">grad 0.5000</text>\n</g>\n<!-- 139766011163072+ -->\n<g id=\"node28\" class=\"node\">\n<title>139766011163072+</title>\n<ellipse fill=\"none\" stroke=\"#000000\" cx=\"633\" cy=\"-100.5\" rx=\"27\" ry=\"18\"/>\n<text text-anchor=\"middle\" x=\"633\" y=\"-96.8\" font-family=\"Times,serif\" font-size=\"14.00\" fill=\"#000000\">+</text>\n</g>\n<!-- 139766011163744&#45;&gt;139766011163072+ -->\n<g id=\"edge13\" class=\"edge\">\n<title>139766011163744&#45;&gt;139766011163072+</title>\n<path fill=\"none\" stroke=\"#000000\" d=\"M568.9566,-110.4901C578.7184,-108.9673 588.037,-107.5137 596.3947,-106.21\"/>\n<polygon fill=\"#000000\" stroke=\"#000000\" points=\"597.0871,-109.6444 606.4281,-104.6449 596.0082,-102.7281 597.0871,-109.6444\"/>\n</g>\n<!-- 139766011163744* -->\n<g id=\"node6\" class=\"node\">\n<title>139766011163744*</title>\n<ellipse fill=\"none\" stroke=\"#000000\" cx=\"274\" cy=\"-128.5\" rx=\"27\" ry=\"18\"/>\n<text text-anchor=\"middle\" x=\"274\" y=\"-124.8\" font-family=\"Times,serif\" font-size=\"14.00\" fill=\"#000000\">*</text>\n</g>\n<!-- 139766011163744*&#45;&gt;139766011163744 -->\n<g id=\"edge2\" class=\"edge\">\n<title>139766011163744*&#45;&gt;139766011163744</title>\n<path fill=\"none\" stroke=\"#000000\" d=\"M301.2622,-128.5C308.8324,-128.5 317.5801,-128.5 326.9781,-128.5\"/>\n<polygon fill=\"#000000\" stroke=\"#000000\" points=\"326.9853,-132.0001 336.9853,-128.5 326.9852,-125.0001 326.9853,-132.0001\"/>\n</g>\n<!-- 139766011165280 -->\n<g id=\"node7\" class=\"node\">\n<title>139766011165280</title>\n<polygon fill=\"none\" stroke=\"#000000\" points=\"1,-165.5 1,-201.5 210,-201.5 210,-165.5 1,-165.5\"/>\n<text text-anchor=\"middle\" x=\"17\" y=\"-179.8\" font-family=\"Times,serif\" font-size=\"14.00\" fill=\"#000000\">x1</text>\n<polyline fill=\"none\" stroke=\"#000000\" points=\"33,-165.5 33,-201.5 \"/>\n<text text-anchor=\"middle\" x=\"75.5\" y=\"-179.8\" font-family=\"Times,serif\" font-size=\"14.00\" fill=\"#000000\">data 2.0000</text>\n<polyline fill=\"none\" stroke=\"#000000\" points=\"118,-165.5 118,-201.5 \"/>\n<text text-anchor=\"middle\" x=\"164\" y=\"-179.8\" font-family=\"Times,serif\" font-size=\"14.00\" fill=\"#000000\">grad &#45;1.5000</text>\n</g>\n<!-- 139766011165280&#45;&gt;139766011163744* -->\n<g id=\"edge11\" class=\"edge\">\n<title>139766011165280&#45;&gt;139766011163744*</title>\n<path fill=\"none\" stroke=\"#000000\" d=\"M182.3017,-165.4558C192.0361,-162.698 201.8026,-159.6955 211,-156.5 221.6243,-152.8088 232.9373,-148.0548 243.0021,-143.5155\"/>\n<polygon fill=\"#000000\" stroke=\"#000000\" points=\"244.5909,-146.6371 252.2061,-139.271 241.6594,-140.2805 244.5909,-146.6371\"/>\n</g>\n<!-- 139766011163264 -->\n<g id=\"node8\" class=\"node\">\n<title>139766011163264</title>\n<polygon fill=\"none\" stroke=\"#000000\" points=\"735,-137.5 735,-173.5 931,-173.5 931,-137.5 735,-137.5\"/>\n<text text-anchor=\"middle\" x=\"747\" y=\"-151.8\" font-family=\"Times,serif\" font-size=\"14.00\" fill=\"#000000\">b</text>\n<polyline fill=\"none\" stroke=\"#000000\" points=\"759,-137.5 759,-173.5 \"/>\n<text text-anchor=\"middle\" x=\"801.5\" y=\"-151.8\" font-family=\"Times,serif\" font-size=\"14.00\" fill=\"#000000\">data 6.8814</text>\n<polyline fill=\"none\" stroke=\"#000000\" points=\"844,-137.5 844,-173.5 \"/>\n<text text-anchor=\"middle\" x=\"887.5\" y=\"-151.8\" font-family=\"Times,serif\" font-size=\"14.00\" fill=\"#000000\">grad 0.5000</text>\n</g>\n<!-- 139766011163024+ -->\n<g id=\"node24\" class=\"node\">\n<title>139766011163024+</title>\n<ellipse fill=\"none\" stroke=\"#000000\" cx=\"1033\" cy=\"-127.5\" rx=\"27\" ry=\"18\"/>\n<text text-anchor=\"middle\" x=\"1033\" y=\"-123.8\" font-family=\"Times,serif\" font-size=\"14.00\" fill=\"#000000\">+</text>\n</g>\n<!-- 139766011163264&#45;&gt;139766011163024+ -->\n<g id=\"edge14\" class=\"edge\">\n<title>139766011163264&#45;&gt;139766011163024+</title>\n<path fill=\"none\" stroke=\"#000000\" d=\"M931.2423,-141.7461C954.4727,-138.4938 977.8296,-135.2239 996.2964,-132.6385\"/>\n<polygon fill=\"#000000\" stroke=\"#000000\" points=\"996.8748,-136.0918 1006.2929,-131.239 995.9042,-129.1594 996.8748,-136.0918\"/>\n</g>\n<!-- 139766011714192 -->\n<g id=\"node9\" class=\"node\">\n<title>139766011714192</title>\n<polygon fill=\"none\" stroke=\"#000000\" points=\"2838,-135.5 2838,-171.5 3034,-171.5 3034,-135.5 2838,-135.5\"/>\n<text text-anchor=\"middle\" x=\"2850\" y=\"-149.8\" font-family=\"Times,serif\" font-size=\"14.00\" fill=\"#000000\">o</text>\n<polyline fill=\"none\" stroke=\"#000000\" points=\"2862,-135.5 2862,-171.5 \"/>\n<text text-anchor=\"middle\" x=\"2904.5\" y=\"-149.8\" font-family=\"Times,serif\" font-size=\"14.00\" fill=\"#000000\">data 0.7071</text>\n<polyline fill=\"none\" stroke=\"#000000\" points=\"2947,-135.5 2947,-171.5 \"/>\n<text text-anchor=\"middle\" x=\"2990.5\" y=\"-149.8\" font-family=\"Times,serif\" font-size=\"14.00\" fill=\"#000000\">grad 1.0000</text>\n</g>\n<!-- 139766011714192*&#45;&gt;139766011714192 -->\n<g id=\"edge3\" class=\"edge\">\n<title>139766011714192*&#45;&gt;139766011714192</title>\n<path fill=\"none\" stroke=\"#000000\" d=\"M2802.3115,-153.5C2809.8223,-153.5 2818.4512,-153.5 2827.6318,-153.5\"/>\n<polygon fill=\"#000000\" stroke=\"#000000\" points=\"2827.7835,-157.0001 2837.7835,-153.5 2827.7835,-150.0001 2827.7835,-157.0001\"/>\n</g>\n<!-- 139766095473296 -->\n<g id=\"node11\" class=\"node\">\n<title>139766095473296</title>\n<polygon fill=\"none\" stroke=\"#000000\" points=\"2292,-163.5 2292,-199.5 2484,-199.5 2484,-163.5 2292,-163.5\"/>\n<text text-anchor=\"middle\" x=\"2302\" y=\"-177.8\" font-family=\"Times,serif\" font-size=\"14.00\" fill=\"#000000\"> </text>\n<polyline fill=\"none\" stroke=\"#000000\" points=\"2312,-163.5 2312,-199.5 \"/>\n<text text-anchor=\"middle\" x=\"2354.5\" y=\"-177.8\" font-family=\"Times,serif\" font-size=\"14.00\" fill=\"#000000\">data 4.8284</text>\n<polyline fill=\"none\" stroke=\"#000000\" points=\"2397,-163.5 2397,-199.5 \"/>\n<text text-anchor=\"middle\" x=\"2440.5\" y=\"-177.8\" font-family=\"Times,serif\" font-size=\"14.00\" fill=\"#000000\">grad 0.1464</text>\n</g>\n<!-- 139766095473296&#45;&gt;139766011714192* -->\n<g id=\"edge21\" class=\"edge\">\n<title>139766095473296&#45;&gt;139766011714192*</title>\n<path fill=\"none\" stroke=\"#000000\" d=\"M2484.0652,-174.8912C2548.543,-170.4036 2635.3827,-164.2597 2712,-158.5 2720.4007,-157.8685 2729.4294,-157.166 2737.9537,-156.4919\"/>\n<polygon fill=\"#000000\" stroke=\"#000000\" points=\"2738.3345,-159.9728 2748.0253,-155.6905 2737.7792,-152.9949 2738.3345,-159.9728\"/>\n</g>\n<!-- 139766095473296+ -->\n<g id=\"node12\" class=\"node\">\n<title>139766095473296+</title>\n<ellipse fill=\"none\" stroke=\"#000000\" cx=\"1996\" cy=\"-181.5\" rx=\"27\" ry=\"18\"/>\n<text text-anchor=\"middle\" x=\"1996\" y=\"-177.8\" font-family=\"Times,serif\" font-size=\"14.00\" fill=\"#000000\">+</text>\n</g>\n<!-- 139766095473296+&#45;&gt;139766095473296 -->\n<g id=\"edge4\" class=\"edge\">\n<title>139766095473296+&#45;&gt;139766095473296</title>\n<path fill=\"none\" stroke=\"#000000\" d=\"M2023.2535,-181.5C2075.8629,-181.5 2193.9488,-181.5 2281.5875,-181.5\"/>\n<polygon fill=\"#000000\" stroke=\"#000000\" points=\"2281.8483,-185.0001 2291.8482,-181.5 2281.8482,-178.0001 2281.8483,-185.0001\"/>\n</g>\n<!-- 139766011163360 -->\n<g id=\"node13\" class=\"node\">\n<title>139766011163360</title>\n<polygon fill=\"none\" stroke=\"#000000\" points=\"0,-110.5 0,-146.5 211,-146.5 211,-110.5 0,-110.5\"/>\n<text text-anchor=\"middle\" x=\"17.5\" y=\"-124.8\" font-family=\"Times,serif\" font-size=\"14.00\" fill=\"#000000\">w1</text>\n<polyline fill=\"none\" stroke=\"#000000\" points=\"35,-110.5 35,-146.5 \"/>\n<text text-anchor=\"middle\" x=\"79.5\" y=\"-124.8\" font-family=\"Times,serif\" font-size=\"14.00\" fill=\"#000000\">data &#45;3.0000</text>\n<polyline fill=\"none\" stroke=\"#000000\" points=\"124,-110.5 124,-146.5 \"/>\n<text text-anchor=\"middle\" x=\"167.5\" y=\"-124.8\" font-family=\"Times,serif\" font-size=\"14.00\" fill=\"#000000\">grad 1.0000</text>\n</g>\n<!-- 139766011163360&#45;&gt;139766011163744* -->\n<g id=\"edge25\" class=\"edge\">\n<title>139766011163360&#45;&gt;139766011163744*</title>\n<path fill=\"none\" stroke=\"#000000\" d=\"M211.2568,-128.5C220.2576,-128.5 228.9074,-128.5 236.7567,-128.5\"/>\n<polygon fill=\"#000000\" stroke=\"#000000\" points=\"236.9217,-132.0001 246.9217,-128.5 236.9217,-125.0001 236.9217,-132.0001\"/>\n</g>\n<!-- 139766095472384 -->\n<g id=\"node14\" class=\"node\">\n<title>139766095472384</title>\n<polygon fill=\"none\" stroke=\"#000000\" points=\"1738.5,-136.5 1738.5,-172.5 1930.5,-172.5 1930.5,-136.5 1738.5,-136.5\"/>\n<text text-anchor=\"middle\" x=\"1748.5\" y=\"-150.8\" font-family=\"Times,serif\" font-size=\"14.00\" fill=\"#000000\"> </text>\n<polyline fill=\"none\" stroke=\"#000000\" points=\"1758.5,-136.5 1758.5,-172.5 \"/>\n<text text-anchor=\"middle\" x=\"1801\" y=\"-150.8\" font-family=\"Times,serif\" font-size=\"14.00\" fill=\"#000000\">data 5.8284</text>\n<polyline fill=\"none\" stroke=\"#000000\" points=\"1843.5,-136.5 1843.5,-172.5 \"/>\n<text text-anchor=\"middle\" x=\"1887\" y=\"-150.8\" font-family=\"Times,serif\" font-size=\"14.00\" fill=\"#000000\">grad 0.0429</text>\n</g>\n<!-- 139766095472384&#45;&gt;139766095473296+ -->\n<g id=\"edge15\" class=\"edge\">\n<title>139766095472384&#45;&gt;139766095473296+</title>\n<path fill=\"none\" stroke=\"#000000\" d=\"M1930.7773,-170.5959C1940.8624,-172.2819 1950.6117,-173.9119 1959.3636,-175.375\"/>\n<polygon fill=\"#000000\" stroke=\"#000000\" points=\"1959.0594,-178.8727 1969.4997,-177.0696 1960.2137,-171.9685 1959.0594,-178.8727\"/>\n</g>\n<!-- 139766016407968+ -->\n<g id=\"node26\" class=\"node\">\n<title>139766016407968+</title>\n<ellipse fill=\"none\" stroke=\"#000000\" cx=\"1996\" cy=\"-126.5\" rx=\"27\" ry=\"18\"/>\n<text text-anchor=\"middle\" x=\"1996\" y=\"-122.8\" font-family=\"Times,serif\" font-size=\"14.00\" fill=\"#000000\">+</text>\n</g>\n<!-- 139766095472384&#45;&gt;139766016407968+ -->\n<g id=\"edge22\" class=\"edge\">\n<title>139766095472384&#45;&gt;139766016407968+</title>\n<path fill=\"none\" stroke=\"#000000\" d=\"M1930.7773,-137.808C1941.0703,-136.0234 1951.0136,-134.2995 1959.9036,-132.7582\"/>\n<polygon fill=\"#000000\" stroke=\"#000000\" points=\"1960.5587,-136.1969 1969.8137,-131.04 1959.3628,-129.2998 1960.5587,-136.1969\"/>\n</g>\n<!-- 139766095472384exp -->\n<g id=\"node15\" class=\"node\">\n<title>139766095472384exp</title>\n<ellipse fill=\"none\" stroke=\"#000000\" cx=\"1673\" cy=\"-154.5\" rx=\"27\" ry=\"18\"/>\n<text text-anchor=\"middle\" x=\"1673\" y=\"-150.8\" font-family=\"Times,serif\" font-size=\"14.00\" fill=\"#000000\">exp</text>\n</g>\n<!-- 139766095472384exp&#45;&gt;139766095472384 -->\n<g id=\"edge5\" class=\"edge\">\n<title>139766095472384exp&#45;&gt;139766095472384</title>\n<path fill=\"none\" stroke=\"#000000\" d=\"M1700.0315,-154.5C1708.3333,-154.5 1718.0215,-154.5 1728.3247,-154.5\"/>\n<polygon fill=\"#000000\" stroke=\"#000000\" points=\"1728.3664,-158.0001 1738.3663,-154.5 1728.3663,-151.0001 1728.3664,-158.0001\"/>\n</g>\n<!-- 139766011164944 -->\n<g id=\"node16\" class=\"node\">\n<title>139766011164944</title>\n<polygon fill=\"none\" stroke=\"#000000\" points=\"1418,-136.5 1418,-172.5 1610,-172.5 1610,-136.5 1418,-136.5\"/>\n<text text-anchor=\"middle\" x=\"1428\" y=\"-150.8\" font-family=\"Times,serif\" font-size=\"14.00\" fill=\"#000000\"> </text>\n<polyline fill=\"none\" stroke=\"#000000\" points=\"1438,-136.5 1438,-172.5 \"/>\n<text text-anchor=\"middle\" x=\"1480.5\" y=\"-150.8\" font-family=\"Times,serif\" font-size=\"14.00\" fill=\"#000000\">data 1.7627</text>\n<polyline fill=\"none\" stroke=\"#000000\" points=\"1523,-136.5 1523,-172.5 \"/>\n<text text-anchor=\"middle\" x=\"1566.5\" y=\"-150.8\" font-family=\"Times,serif\" font-size=\"14.00\" fill=\"#000000\">grad 0.2500</text>\n</g>\n<!-- 139766011164944&#45;&gt;139766095472384exp -->\n<g id=\"edge28\" class=\"edge\">\n<title>139766011164944&#45;&gt;139766095472384exp</title>\n<path fill=\"none\" stroke=\"#000000\" d=\"M1610.159,-154.5C1619.0615,-154.5 1627.6722,-154.5 1635.517,-154.5\"/>\n<polygon fill=\"#000000\" stroke=\"#000000\" points=\"1635.6952,-158.0001 1645.6952,-154.5 1635.6951,-151.0001 1635.6952,-158.0001\"/>\n</g>\n<!-- 139766011164944*&#45;&gt;139766011164944 -->\n<g id=\"edge6\" class=\"edge\">\n<title>139766011164944*&#45;&gt;139766011164944</title>\n<path fill=\"none\" stroke=\"#000000\" d=\"M1382.3331,-154.5C1389.8317,-154.5 1398.4389,-154.5 1407.5849,-154.5\"/>\n<polygon fill=\"#000000\" stroke=\"#000000\" points=\"1407.6939,-158.0001 1417.6939,-154.5 1407.6939,-151.0001 1407.6939,-158.0001\"/>\n</g>\n<!-- 139766011162880 -->\n<g id=\"node18\" class=\"node\">\n<title>139766011162880</title>\n<polygon fill=\"none\" stroke=\"#000000\" points=\"3.5,-.5 3.5,-36.5 207.5,-36.5 207.5,-.5 3.5,-.5\"/>\n<text text-anchor=\"middle\" x=\"19.5\" y=\"-14.8\" font-family=\"Times,serif\" font-size=\"14.00\" fill=\"#000000\">x2</text>\n<polyline fill=\"none\" stroke=\"#000000\" points=\"35.5,-.5 35.5,-36.5 \"/>\n<text text-anchor=\"middle\" x=\"78\" y=\"-14.8\" font-family=\"Times,serif\" font-size=\"14.00\" fill=\"#000000\">data 0.0000</text>\n<polyline fill=\"none\" stroke=\"#000000\" points=\"120.5,-.5 120.5,-36.5 \"/>\n<text text-anchor=\"middle\" x=\"164\" y=\"-14.8\" font-family=\"Times,serif\" font-size=\"14.00\" fill=\"#000000\">grad 0.5000</text>\n</g>\n<!-- 139766011162880&#45;&gt;139766011163456* -->\n<g id=\"edge24\" class=\"edge\">\n<title>139766011162880&#45;&gt;139766011163456*</title>\n<path fill=\"none\" stroke=\"#000000\" d=\"M182.3017,-36.5442C192.0361,-39.302 201.8026,-42.3045 211,-45.5 221.6243,-49.1912 232.9373,-53.9452 243.0021,-58.4845\"/>\n<polygon fill=\"#000000\" stroke=\"#000000\" points=\"241.6594,-61.7195 252.2061,-62.729 244.5909,-55.3629 241.6594,-61.7195\"/>\n</g>\n<!-- 139766016408352 -->\n<g id=\"node19\" class=\"node\">\n<title>139766016408352</title>\n<polygon fill=\"none\" stroke=\"#000000\" points=\"1736,-81.5 1736,-117.5 1933,-117.5 1933,-81.5 1736,-81.5\"/>\n<text text-anchor=\"middle\" x=\"1746\" y=\"-95.8\" font-family=\"Times,serif\" font-size=\"14.00\" fill=\"#000000\"> </text>\n<polyline fill=\"none\" stroke=\"#000000\" points=\"1756,-81.5 1756,-117.5 \"/>\n<text text-anchor=\"middle\" x=\"1798.5\" y=\"-95.8\" font-family=\"Times,serif\" font-size=\"14.00\" fill=\"#000000\">data 1.0000</text>\n<polyline fill=\"none\" stroke=\"#000000\" points=\"1841,-81.5 1841,-117.5 \"/>\n<text text-anchor=\"middle\" x=\"1887\" y=\"-95.8\" font-family=\"Times,serif\" font-size=\"14.00\" fill=\"#000000\">grad &#45;0.1036</text>\n</g>\n<!-- 139766016408352&#45;&gt;139766016407968+ -->\n<g id=\"edge23\" class=\"edge\">\n<title>139766016408352&#45;&gt;139766016407968+</title>\n<path fill=\"none\" stroke=\"#000000\" d=\"M1933.0974,-115.9838C1942.4127,-117.5411 1951.3943,-119.0427 1959.5123,-120.3999\"/>\n<polygon fill=\"#000000\" stroke=\"#000000\" points=\"1959.2018,-123.8965 1969.6421,-122.0934 1960.3562,-116.9923 1959.2018,-123.8965\"/>\n</g>\n<!-- 139766011163456 -->\n<g id=\"node20\" class=\"node\">\n<title>139766011163456</title>\n<polygon fill=\"none\" stroke=\"#000000\" points=\"339,-55.5 339,-91.5 568,-91.5 568,-55.5 339,-55.5\"/>\n<text text-anchor=\"middle\" x=\"367.5\" y=\"-69.8\" font-family=\"Times,serif\" font-size=\"14.00\" fill=\"#000000\">x2*w2</text>\n<polyline fill=\"none\" stroke=\"#000000\" points=\"396,-55.5 396,-91.5 \"/>\n<text text-anchor=\"middle\" x=\"438.5\" y=\"-69.8\" font-family=\"Times,serif\" font-size=\"14.00\" fill=\"#000000\">data 0.0000</text>\n<polyline fill=\"none\" stroke=\"#000000\" points=\"481,-55.5 481,-91.5 \"/>\n<text text-anchor=\"middle\" x=\"524.5\" y=\"-69.8\" font-family=\"Times,serif\" font-size=\"14.00\" fill=\"#000000\">grad 0.5000</text>\n</g>\n<!-- 139766011163456&#45;&gt;139766011163072+ -->\n<g id=\"edge16\" class=\"edge\">\n<title>139766011163456&#45;&gt;139766011163072+</title>\n<path fill=\"none\" stroke=\"#000000\" d=\"M568.1964,-90.7524C578.2591,-92.266 587.8673,-93.7112 596.4577,-95.0034\"/>\n<polygon fill=\"#000000\" stroke=\"#000000\" points=\"595.984,-98.4714 606.3934,-96.4979 597.0253,-91.5493 595.984,-98.4714\"/>\n</g>\n<!-- 139766011163456*&#45;&gt;139766011163456 -->\n<g id=\"edge7\" class=\"edge\">\n<title>139766011163456*&#45;&gt;139766011163456</title>\n<path fill=\"none\" stroke=\"#000000\" d=\"M301.2622,-73.5C309.2798,-73.5 318.6183,-73.5 328.6514,-73.5\"/>\n<polygon fill=\"#000000\" stroke=\"#000000\" points=\"328.8929,-77.0001 338.8928,-73.5 328.8928,-70.0001 328.8929,-77.0001\"/>\n</g>\n<!-- 139766095473536 -->\n<g id=\"node22\" class=\"node\">\n<title>139766095473536</title>\n<polygon fill=\"none\" stroke=\"#000000\" points=\"1736.5,-191.5 1736.5,-227.5 1932.5,-227.5 1932.5,-191.5 1736.5,-191.5\"/>\n<text text-anchor=\"middle\" x=\"1746.5\" y=\"-205.8\" font-family=\"Times,serif\" font-size=\"14.00\" fill=\"#000000\"> </text>\n<polyline fill=\"none\" stroke=\"#000000\" points=\"1756.5,-191.5 1756.5,-227.5 \"/>\n<text text-anchor=\"middle\" x=\"1801\" y=\"-205.8\" font-family=\"Times,serif\" font-size=\"14.00\" fill=\"#000000\">data &#45;1.0000</text>\n<polyline fill=\"none\" stroke=\"#000000\" points=\"1845.5,-191.5 1845.5,-227.5 \"/>\n<text text-anchor=\"middle\" x=\"1889\" y=\"-205.8\" font-family=\"Times,serif\" font-size=\"14.00\" fill=\"#000000\">grad 0.1464</text>\n</g>\n<!-- 139766095473536&#45;&gt;139766095473296+ -->\n<g id=\"edge26\" class=\"edge\">\n<title>139766095473536&#45;&gt;139766095473296+</title>\n<path fill=\"none\" stroke=\"#000000\" d=\"M1932.6344,-192.486C1942.2015,-190.8273 1951.4268,-189.2279 1959.738,-187.7869\"/>\n<polygon fill=\"#000000\" stroke=\"#000000\" points=\"1960.4785,-191.2108 1969.7336,-186.0539 1959.2827,-184.3137 1960.4785,-191.2108\"/>\n</g>\n<!-- 139766011163024 -->\n<g id=\"node23\" class=\"node\">\n<title>139766011163024</title>\n<polygon fill=\"none\" stroke=\"#000000\" points=\"1096,-109.5 1096,-145.5 1292,-145.5 1292,-109.5 1096,-109.5\"/>\n<text text-anchor=\"middle\" x=\"1108\" y=\"-123.8\" font-family=\"Times,serif\" font-size=\"14.00\" fill=\"#000000\">n</text>\n<polyline fill=\"none\" stroke=\"#000000\" points=\"1120,-109.5 1120,-145.5 \"/>\n<text text-anchor=\"middle\" x=\"1162.5\" y=\"-123.8\" font-family=\"Times,serif\" font-size=\"14.00\" fill=\"#000000\">data 0.8814</text>\n<polyline fill=\"none\" stroke=\"#000000\" points=\"1205,-109.5 1205,-145.5 \"/>\n<text text-anchor=\"middle\" x=\"1248.5\" y=\"-123.8\" font-family=\"Times,serif\" font-size=\"14.00\" fill=\"#000000\">grad 0.5000</text>\n</g>\n<!-- 139766011163024&#45;&gt;139766011164944* -->\n<g id=\"edge17\" class=\"edge\">\n<title>139766011163024&#45;&gt;139766011164944*</title>\n<path fill=\"none\" stroke=\"#000000\" d=\"M1292.2922,-143.9838C1301.5786,-145.5411 1310.5324,-147.0427 1318.6253,-148.3999\"/>\n<polygon fill=\"#000000\" stroke=\"#000000\" points=\"1318.2825,-151.8912 1328.7237,-150.0934 1319.4403,-144.9876 1318.2825,-151.8912\"/>\n</g>\n<!-- 139766011163024+&#45;&gt;139766011163024 -->\n<g id=\"edge8\" class=\"edge\">\n<title>139766011163024+&#45;&gt;139766011163024</title>\n<path fill=\"none\" stroke=\"#000000\" d=\"M1060.3115,-127.5C1067.8223,-127.5 1076.4512,-127.5 1085.6318,-127.5\"/>\n<polygon fill=\"#000000\" stroke=\"#000000\" points=\"1085.7835,-131.0001 1095.7835,-127.5 1085.7835,-124.0001 1085.7835,-131.0001\"/>\n</g>\n<!-- 139766016407968 -->\n<g id=\"node25\" class=\"node\">\n<title>139766016407968</title>\n<polygon fill=\"none\" stroke=\"#000000\" points=\"2059,-108.5 2059,-144.5 2256,-144.5 2256,-108.5 2059,-108.5\"/>\n<text text-anchor=\"middle\" x=\"2069\" y=\"-122.8\" font-family=\"Times,serif\" font-size=\"14.00\" fill=\"#000000\"> </text>\n<polyline fill=\"none\" stroke=\"#000000\" points=\"2079,-108.5 2079,-144.5 \"/>\n<text text-anchor=\"middle\" x=\"2121.5\" y=\"-122.8\" font-family=\"Times,serif\" font-size=\"14.00\" fill=\"#000000\">data 6.8284</text>\n<polyline fill=\"none\" stroke=\"#000000\" points=\"2164,-108.5 2164,-144.5 \"/>\n<text text-anchor=\"middle\" x=\"2210\" y=\"-122.8\" font-family=\"Times,serif\" font-size=\"14.00\" fill=\"#000000\">grad &#45;0.1036</text>\n</g>\n<!-- 139766016407968&#45;&gt;139766078155312**&#45;1 -->\n<g id=\"edge20\" class=\"edge\">\n<title>139766016407968&#45;&gt;139766078155312**&#45;1</title>\n<path fill=\"none\" stroke=\"#000000\" d=\"M2256.2558,-126.5C2289.1184,-126.5 2323.8079,-126.5 2349.3374,-126.5\"/>\n<polygon fill=\"#000000\" stroke=\"#000000\" points=\"2349.3393,-130.0001 2359.3393,-126.5 2349.3392,-123.0001 2349.3393,-130.0001\"/>\n</g>\n<!-- 139766016407968+&#45;&gt;139766016407968 -->\n<g id=\"edge9\" class=\"edge\">\n<title>139766016407968+&#45;&gt;139766016407968</title>\n<path fill=\"none\" stroke=\"#000000\" d=\"M2023.0315,-126.5C2030.6149,-126.5 2039.3553,-126.5 2048.6644,-126.5\"/>\n<polygon fill=\"#000000\" stroke=\"#000000\" points=\"2048.9613,-130.0001 2058.9613,-126.5 2048.9613,-123.0001 2048.9613,-130.0001\"/>\n</g>\n<!-- 139766011163072 -->\n<g id=\"node27\" class=\"node\">\n<title>139766011163072</title>\n<polygon fill=\"none\" stroke=\"#000000\" points=\"696,-82.5 696,-118.5 970,-118.5 970,-82.5 696,-82.5\"/>\n<text text-anchor=\"middle\" x=\"745\" y=\"-96.8\" font-family=\"Times,serif\" font-size=\"14.00\" fill=\"#000000\">x1w1 + x2w2</text>\n<polyline fill=\"none\" stroke=\"#000000\" points=\"794,-82.5 794,-118.5 \"/>\n<text text-anchor=\"middle\" x=\"838.5\" y=\"-96.8\" font-family=\"Times,serif\" font-size=\"14.00\" fill=\"#000000\">data &#45;6.0000</text>\n<polyline fill=\"none\" stroke=\"#000000\" points=\"883,-82.5 883,-118.5 \"/>\n<text text-anchor=\"middle\" x=\"926.5\" y=\"-96.8\" font-family=\"Times,serif\" font-size=\"14.00\" fill=\"#000000\">grad 0.5000</text>\n</g>\n<!-- 139766011163072&#45;&gt;139766011163024+ -->\n<g id=\"edge12\" class=\"edge\">\n<title>139766011163072&#45;&gt;139766011163024+</title>\n<path fill=\"none\" stroke=\"#000000\" d=\"M966.4029,-118.5094C977.2182,-119.9695 987.4445,-121.35 996.4892,-122.571\"/>\n<polygon fill=\"#000000\" stroke=\"#000000\" points=\"996.1503,-126.057 1006.5286,-123.9264 997.0868,-119.1199 996.1503,-126.057\"/>\n</g>\n<!-- 139766011163072+&#45;&gt;139766011163072 -->\n<g id=\"edge10\" class=\"edge\">\n<title>139766011163072+&#45;&gt;139766011163072</title>\n<path fill=\"none\" stroke=\"#000000\" d=\"M660.3898,-100.5C667.7749,-100.5 676.3064,-100.5 685.5408,-100.5\"/>\n<polygon fill=\"#000000\" stroke=\"#000000\" points=\"685.8161,-104.0001 695.816,-100.5 685.816,-97.0001 685.8161,-104.0001\"/>\n</g>\n</g>\n</svg>\n"
          },
          "metadata": {},
          "execution_count": 25
        }
      ]
    },
    {
      "cell_type": "code",
      "source": [
        "\"\"\"\n",
        "o.grad = 1.0\n",
        "o._backward()\n",
        "n._backward()\n",
        "x1w1x2w2._backward()\n",
        "x1w1._backward()\n",
        "x2w2._backward()\n",
        "\"\"\""
      ],
      "metadata": {
        "colab": {
          "base_uri": "https://localhost:8080/",
          "height": 53
        },
        "id": "Xh93vE56Njaz",
        "outputId": "cf89b7ae-4697-4167-d4f4-145e81710290"
      },
      "execution_count": 19,
      "outputs": [
        {
          "output_type": "execute_result",
          "data": {
            "text/plain": [
              "'\\no.grad = 1.0\\no._backward()\\nn._backward()\\nx1w1x2w2._backward()\\nx1w1._backward()\\nx2w2._backward()\\n'"
            ],
            "application/vnd.google.colaboratory.intrinsic+json": {
              "type": "string"
            }
          },
          "metadata": {},
          "execution_count": 19
        }
      ]
    },
    {
      "cell_type": "code",
      "source": [
        "\"\"\"\n",
        "# o = tanh(n)\n",
        "# do/dn = \n",
        "n.grad = (1-o.data**2)\n",
        "\n",
        "x1w1x2w2.grad = n.grad\n",
        "x1w1.grad, x2w2.grad = n.grad, n.grad\n",
        "\"\"\""
      ],
      "metadata": {
        "colab": {
          "base_uri": "https://localhost:8080/",
          "height": 53
        },
        "id": "tvvN_WJaKBPJ",
        "outputId": "63dcd49d-66d6-42df-b299-f50497b7bc27"
      },
      "execution_count": 20,
      "outputs": [
        {
          "output_type": "execute_result",
          "data": {
            "text/plain": [
              "'\\n# o = tanh(n)\\n# do/dn = \\nn.grad = (1-o.data**2)\\n\\nx1w1x2w2.grad = n.grad\\nx1w1.grad, x2w2.grad = n.grad, n.grad\\n'"
            ],
            "application/vnd.google.colaboratory.intrinsic+json": {
              "type": "string"
            }
          },
          "metadata": {},
          "execution_count": 20
        }
      ]
    },
    {
      "cell_type": "code",
      "source": [
        "\"\"\"x1.grad = w1.data * x1w1.grad\n",
        "w1.grad = x1.data * x1w1.grad\n",
        "\n",
        "x2.grad = w2.data * x2w2.grad\n",
        "w2.grad = x2.data * x2w2.grad\"\"\""
      ],
      "metadata": {
        "colab": {
          "base_uri": "https://localhost:8080/",
          "height": 53
        },
        "id": "9i6M9Ja3KxAH",
        "outputId": "efe87d89-073f-4820-9055-d56db5e0a303"
      },
      "execution_count": 21,
      "outputs": [
        {
          "output_type": "execute_result",
          "data": {
            "text/plain": [
              "'x1.grad = w1.data * x1w1.grad\\nw1.grad = x1.data * x1w1.grad\\n\\nx2.grad = w2.data * x2w2.grad\\nw2.grad = x2.data * x2w2.grad'"
            ],
            "application/vnd.google.colaboratory.intrinsic+json": {
              "type": "string"
            }
          },
          "metadata": {},
          "execution_count": 21
        }
      ]
    },
    {
      "cell_type": "code",
      "source": [
        "a = Value(-2.0, label = 'a')\n",
        "b = Value(3.0, label = 'b')\n",
        "d = a*b ; d.label = 'd'\n",
        "e = a+b ; e.label = 'e'\n",
        "f = d*e ; f.label = 'f'\n",
        "f.backward()"
      ],
      "metadata": {
        "id": "RQeiOY6DRWk8"
      },
      "execution_count": 22,
      "outputs": []
    },
    {
      "cell_type": "code",
      "source": [
        "draw_dot(f)"
      ],
      "metadata": {
        "colab": {
          "base_uri": "https://localhost:8080/",
          "height": 174
        },
        "id": "AKIKjc_nRnL2",
        "outputId": "759b2189-4e10-4179-da2e-8d857a65f2d0"
      },
      "execution_count": 23,
      "outputs": [
        {
          "output_type": "execute_result",
          "data": {
            "text/plain": [
              "<graphviz.dot.Digraph at 0x7f1dcfc96c10>"
            ],
            "image/svg+xml": "<?xml version=\"1.0\" encoding=\"UTF-8\" standalone=\"no\"?>\n<!DOCTYPE svg PUBLIC \"-//W3C//DTD SVG 1.1//EN\"\n \"http://www.w3.org/Graphics/SVG/1.1/DTD/svg11.dtd\">\n<!-- Generated by graphviz version 2.40.1 (20161225.0304)\n -->\n<!-- Title: %3 Pages: 1 -->\n<svg width=\"861pt\" height=\"100pt\"\n viewBox=\"0.00 0.00 861.00 100.00\" xmlns=\"http://www.w3.org/2000/svg\" xmlns:xlink=\"http://www.w3.org/1999/xlink\">\n<g id=\"graph0\" class=\"graph\" transform=\"scale(1 1) rotate(0) translate(4 96)\">\n<title>%3</title>\n<polygon fill=\"#ffffff\" stroke=\"transparent\" points=\"-4,4 -4,-96 857,-96 857,4 -4,4\"/>\n<!-- 139766016422960 -->\n<g id=\"node1\" class=\"node\">\n<title>139766016422960</title>\n<polygon fill=\"none\" stroke=\"#000000\" points=\"0,-55.5 0,-91.5 204,-91.5 204,-55.5 0,-55.5\"/>\n<text text-anchor=\"middle\" x=\"11.5\" y=\"-69.8\" font-family=\"Times,serif\" font-size=\"14.00\" fill=\"#000000\">a</text>\n<polyline fill=\"none\" stroke=\"#000000\" points=\"23,-55.5 23,-91.5 \"/>\n<text text-anchor=\"middle\" x=\"67.5\" y=\"-69.8\" font-family=\"Times,serif\" font-size=\"14.00\" fill=\"#000000\">data &#45;2.0000</text>\n<polyline fill=\"none\" stroke=\"#000000\" points=\"112,-55.5 112,-91.5 \"/>\n<text text-anchor=\"middle\" x=\"158\" y=\"-69.8\" font-family=\"Times,serif\" font-size=\"14.00\" fill=\"#000000\">grad &#45;3.0000</text>\n</g>\n<!-- 139766011175024* -->\n<g id=\"node4\" class=\"node\">\n<title>139766011175024*</title>\n<ellipse fill=\"none\" stroke=\"#000000\" cx=\"267\" cy=\"-73.5\" rx=\"27\" ry=\"18\"/>\n<text text-anchor=\"middle\" x=\"267\" y=\"-69.8\" font-family=\"Times,serif\" font-size=\"14.00\" fill=\"#000000\">*</text>\n</g>\n<!-- 139766016422960&#45;&gt;139766011175024* -->\n<g id=\"edge6\" class=\"edge\">\n<title>139766016422960&#45;&gt;139766011175024*</title>\n<path fill=\"none\" stroke=\"#000000\" d=\"M204.1499,-73.5C213.1243,-73.5 221.7693,-73.5 229.6257,-73.5\"/>\n<polygon fill=\"#000000\" stroke=\"#000000\" points=\"229.8071,-77.0001 239.8071,-73.5 229.807,-70.0001 229.8071,-77.0001\"/>\n</g>\n<!-- 139766011178768+ -->\n<g id=\"node6\" class=\"node\">\n<title>139766011178768+</title>\n<ellipse fill=\"none\" stroke=\"#000000\" cx=\"267\" cy=\"-18.5\" rx=\"27\" ry=\"18\"/>\n<text text-anchor=\"middle\" x=\"267\" y=\"-14.8\" font-family=\"Times,serif\" font-size=\"14.00\" fill=\"#000000\">+</text>\n</g>\n<!-- 139766016422960&#45;&gt;139766011178768+ -->\n<g id=\"edge8\" class=\"edge\">\n<title>139766016422960&#45;&gt;139766011178768+</title>\n<path fill=\"none\" stroke=\"#000000\" d=\"M175.6935,-55.4949C185.2882,-52.7128 194.9287,-49.6935 204,-46.5 214.609,-42.7651 225.918,-37.9995 235.9838,-33.4631\"/>\n<polygon fill=\"#000000\" stroke=\"#000000\" points=\"237.5699,-36.586 245.19,-29.225 234.6427,-30.2274 237.5699,-36.586\"/>\n</g>\n<!-- 139766016425552 -->\n<g id=\"node2\" class=\"node\">\n<title>139766016425552</title>\n<polygon fill=\"none\" stroke=\"#000000\" points=\"1.5,-.5 1.5,-36.5 202.5,-36.5 202.5,-.5 1.5,-.5\"/>\n<text text-anchor=\"middle\" x=\"13.5\" y=\"-14.8\" font-family=\"Times,serif\" font-size=\"14.00\" fill=\"#000000\">b</text>\n<polyline fill=\"none\" stroke=\"#000000\" points=\"25.5,-.5 25.5,-36.5 \"/>\n<text text-anchor=\"middle\" x=\"68\" y=\"-14.8\" font-family=\"Times,serif\" font-size=\"14.00\" fill=\"#000000\">data 3.0000</text>\n<polyline fill=\"none\" stroke=\"#000000\" points=\"110.5,-.5 110.5,-36.5 \"/>\n<text text-anchor=\"middle\" x=\"156.5\" y=\"-14.8\" font-family=\"Times,serif\" font-size=\"14.00\" fill=\"#000000\">grad &#45;8.0000</text>\n</g>\n<!-- 139766016425552&#45;&gt;139766011175024* -->\n<g id=\"edge4\" class=\"edge\">\n<title>139766016425552&#45;&gt;139766011175024*</title>\n<path fill=\"none\" stroke=\"#000000\" d=\"M172.6226,-36.5301C183.2123,-39.6243 193.9462,-42.9843 204,-46.5 214.4701,-50.1613 225.6678,-54.7359 235.6752,-59.0733\"/>\n<polygon fill=\"#000000\" stroke=\"#000000\" points=\"234.2811,-62.2836 244.8427,-63.1216 237.1088,-55.8802 234.2811,-62.2836\"/>\n</g>\n<!-- 139766016425552&#45;&gt;139766011178768+ -->\n<g id=\"edge5\" class=\"edge\">\n<title>139766016425552&#45;&gt;139766011178768+</title>\n<path fill=\"none\" stroke=\"#000000\" d=\"M202.7342,-18.5C212.2639,-18.5 221.4519,-18.5 229.7544,-18.5\"/>\n<polygon fill=\"#000000\" stroke=\"#000000\" points=\"229.7565,-22.0001 239.7565,-18.5 229.7565,-15.0001 229.7565,-22.0001\"/>\n</g>\n<!-- 139766011175024 -->\n<g id=\"node3\" class=\"node\">\n<title>139766011175024</title>\n<polygon fill=\"none\" stroke=\"#000000\" points=\"330,-55.5 330,-91.5 530,-91.5 530,-55.5 330,-55.5\"/>\n<text text-anchor=\"middle\" x=\"342\" y=\"-69.8\" font-family=\"Times,serif\" font-size=\"14.00\" fill=\"#000000\">d</text>\n<polyline fill=\"none\" stroke=\"#000000\" points=\"354,-55.5 354,-91.5 \"/>\n<text text-anchor=\"middle\" x=\"398.5\" y=\"-69.8\" font-family=\"Times,serif\" font-size=\"14.00\" fill=\"#000000\">data &#45;6.0000</text>\n<polyline fill=\"none\" stroke=\"#000000\" points=\"443,-55.5 443,-91.5 \"/>\n<text text-anchor=\"middle\" x=\"486.5\" y=\"-69.8\" font-family=\"Times,serif\" font-size=\"14.00\" fill=\"#000000\">grad 1.0000</text>\n</g>\n<!-- 139766011713952* -->\n<g id=\"node8\" class=\"node\">\n<title>139766011713952*</title>\n<ellipse fill=\"none\" stroke=\"#000000\" cx=\"593\" cy=\"-45.5\" rx=\"27\" ry=\"18\"/>\n<text text-anchor=\"middle\" x=\"593\" y=\"-41.8\" font-family=\"Times,serif\" font-size=\"14.00\" fill=\"#000000\">*</text>\n</g>\n<!-- 139766011175024&#45;&gt;139766011713952* -->\n<g id=\"edge9\" class=\"edge\">\n<title>139766011175024&#45;&gt;139766011713952*</title>\n<path fill=\"none\" stroke=\"#000000\" d=\"M530.4461,-56.2455C539.7389,-54.6491 548.6838,-53.1126 556.7604,-51.7252\"/>\n<polygon fill=\"#000000\" stroke=\"#000000\" points=\"557.5708,-55.1374 566.8338,-49.9948 556.3856,-48.2384 557.5708,-55.1374\"/>\n</g>\n<!-- 139766011175024*&#45;&gt;139766011175024 -->\n<g id=\"edge1\" class=\"edge\">\n<title>139766011175024*&#45;&gt;139766011175024</title>\n<path fill=\"none\" stroke=\"#000000\" d=\"M294.2825,-73.5C301.8033,-73.5 310.4515,-73.5 319.6639,-73.5\"/>\n<polygon fill=\"#000000\" stroke=\"#000000\" points=\"319.8552,-77.0001 329.8552,-73.5 319.8552,-70.0001 319.8552,-77.0001\"/>\n</g>\n<!-- 139766011178768 -->\n<g id=\"node5\" class=\"node\">\n<title>139766011178768</title>\n<polygon fill=\"none\" stroke=\"#000000\" points=\"330,-.5 330,-36.5 530,-36.5 530,-.5 330,-.5\"/>\n<text text-anchor=\"middle\" x=\"341.5\" y=\"-14.8\" font-family=\"Times,serif\" font-size=\"14.00\" fill=\"#000000\">e</text>\n<polyline fill=\"none\" stroke=\"#000000\" points=\"353,-.5 353,-36.5 \"/>\n<text text-anchor=\"middle\" x=\"395.5\" y=\"-14.8\" font-family=\"Times,serif\" font-size=\"14.00\" fill=\"#000000\">data 1.0000</text>\n<polyline fill=\"none\" stroke=\"#000000\" points=\"438,-.5 438,-36.5 \"/>\n<text text-anchor=\"middle\" x=\"484\" y=\"-14.8\" font-family=\"Times,serif\" font-size=\"14.00\" fill=\"#000000\">grad &#45;6.0000</text>\n</g>\n<!-- 139766011178768&#45;&gt;139766011713952* -->\n<g id=\"edge7\" class=\"edge\">\n<title>139766011178768&#45;&gt;139766011713952*</title>\n<path fill=\"none\" stroke=\"#000000\" d=\"M530.4461,-35.1383C539.6478,-36.6625 548.5084,-38.1302 556.5226,-39.4577\"/>\n<polygon fill=\"#000000\" stroke=\"#000000\" points=\"556.0904,-42.9338 566.528,-41.1151 557.2344,-36.0279 556.0904,-42.9338\"/>\n</g>\n<!-- 139766011178768+&#45;&gt;139766011178768 -->\n<g id=\"edge2\" class=\"edge\">\n<title>139766011178768+&#45;&gt;139766011178768</title>\n<path fill=\"none\" stroke=\"#000000\" d=\"M294.2825,-18.5C301.8033,-18.5 310.4515,-18.5 319.6639,-18.5\"/>\n<polygon fill=\"#000000\" stroke=\"#000000\" points=\"319.8552,-22.0001 329.8552,-18.5 319.8552,-15.0001 319.8552,-22.0001\"/>\n</g>\n<!-- 139766011713952 -->\n<g id=\"node7\" class=\"node\">\n<title>139766011713952</title>\n<polygon fill=\"none\" stroke=\"#000000\" points=\"656,-27.5 656,-63.5 853,-63.5 853,-27.5 656,-27.5\"/>\n<text text-anchor=\"middle\" x=\"666.5\" y=\"-41.8\" font-family=\"Times,serif\" font-size=\"14.00\" fill=\"#000000\">f</text>\n<polyline fill=\"none\" stroke=\"#000000\" points=\"677,-27.5 677,-63.5 \"/>\n<text text-anchor=\"middle\" x=\"721.5\" y=\"-41.8\" font-family=\"Times,serif\" font-size=\"14.00\" fill=\"#000000\">data &#45;6.0000</text>\n<polyline fill=\"none\" stroke=\"#000000\" points=\"766,-27.5 766,-63.5 \"/>\n<text text-anchor=\"middle\" x=\"809.5\" y=\"-41.8\" font-family=\"Times,serif\" font-size=\"14.00\" fill=\"#000000\">grad 1.0000</text>\n</g>\n<!-- 139766011713952*&#45;&gt;139766011713952 -->\n<g id=\"edge3\" class=\"edge\">\n<title>139766011713952*&#45;&gt;139766011713952</title>\n<path fill=\"none\" stroke=\"#000000\" d=\"M620.0315,-45.5C627.6149,-45.5 636.3553,-45.5 645.6644,-45.5\"/>\n<polygon fill=\"#000000\" stroke=\"#000000\" points=\"645.9613,-49.0001 655.9613,-45.5 645.9613,-42.0001 645.9613,-49.0001\"/>\n</g>\n</g>\n</svg>\n"
          },
          "metadata": {},
          "execution_count": 23
        }
      ]
    },
    {
      "cell_type": "code",
      "source": [],
      "metadata": {
        "id": "YyziU8OSDzoc"
      },
      "execution_count": null,
      "outputs": []
    }
  ]
}